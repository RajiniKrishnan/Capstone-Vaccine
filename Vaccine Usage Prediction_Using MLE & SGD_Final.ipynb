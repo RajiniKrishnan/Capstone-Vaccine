{
 "cells": [
  {
   "cell_type": "markdown",
   "id": "15ba7005",
   "metadata": {},
   "source": [
    "# Project on Vaccine Usage Prediction using MLE & SGD"
   ]
  },
  {
   "cell_type": "markdown",
   "id": "b2e968d9",
   "metadata": {},
   "source": [
    "# Logistic regression analysis is used to examine the association of (categorical or continuous) independent variable(s) with one dichotomous dependent variable"
   ]
  },
  {
   "cell_type": "markdown",
   "id": "b1336a7b",
   "metadata": {},
   "source": [
    "# Data Analysis"
   ]
  },
  {
   "cell_type": "code",
   "execution_count": 1,
   "id": "c395d57f",
   "metadata": {},
   "outputs": [],
   "source": [
    "import numpy as np\n",
    "import pandas as pd\n",
    "import matplotlib.pyplot as plt\n",
    "import seaborn as sns"
   ]
  },
  {
   "cell_type": "code",
   "execution_count": 2,
   "id": "3b1ec0b9",
   "metadata": {},
   "outputs": [],
   "source": [
    "myvaccine_data=pd.read_excel(\"h1n1_vaccine_prediction.xlsx\")\n"
   ]
  },
  {
   "cell_type": "code",
   "execution_count": 3,
   "id": "e8293ad3",
   "metadata": {},
   "outputs": [
    {
     "data": {
      "text/html": [
       "<div>\n",
       "<style scoped>\n",
       "    .dataframe tbody tr th:only-of-type {\n",
       "        vertical-align: middle;\n",
       "    }\n",
       "\n",
       "    .dataframe tbody tr th {\n",
       "        vertical-align: top;\n",
       "    }\n",
       "\n",
       "    .dataframe thead th {\n",
       "        text-align: right;\n",
       "    }\n",
       "</style>\n",
       "<table border=\"1\" class=\"dataframe\">\n",
       "  <thead>\n",
       "    <tr style=\"text-align: right;\">\n",
       "      <th></th>\n",
       "      <th>unique_id</th>\n",
       "      <th>h1n1_worry</th>\n",
       "      <th>h1n1_awareness</th>\n",
       "      <th>antiviral_medication</th>\n",
       "      <th>contact_avoidance</th>\n",
       "      <th>bought_face_mask</th>\n",
       "      <th>wash_hands_frequently</th>\n",
       "      <th>avoid_large_gatherings</th>\n",
       "      <th>reduced_outside_home_cont</th>\n",
       "      <th>avoid_touch_face</th>\n",
       "      <th>...</th>\n",
       "      <th>race</th>\n",
       "      <th>sex</th>\n",
       "      <th>income_level</th>\n",
       "      <th>marital_status</th>\n",
       "      <th>housing_status</th>\n",
       "      <th>employment</th>\n",
       "      <th>census_msa</th>\n",
       "      <th>no_of_adults</th>\n",
       "      <th>no_of_children</th>\n",
       "      <th>h1n1_vaccine</th>\n",
       "    </tr>\n",
       "  </thead>\n",
       "  <tbody>\n",
       "    <tr>\n",
       "      <th>0</th>\n",
       "      <td>0</td>\n",
       "      <td>1.0</td>\n",
       "      <td>0.0</td>\n",
       "      <td>0.0</td>\n",
       "      <td>0.0</td>\n",
       "      <td>0.0</td>\n",
       "      <td>0.0</td>\n",
       "      <td>0.0</td>\n",
       "      <td>1.0</td>\n",
       "      <td>1.0</td>\n",
       "      <td>...</td>\n",
       "      <td>White</td>\n",
       "      <td>Female</td>\n",
       "      <td>Below Poverty</td>\n",
       "      <td>Not Married</td>\n",
       "      <td>Own</td>\n",
       "      <td>Not in Labor Force</td>\n",
       "      <td>Non-MSA</td>\n",
       "      <td>0.0</td>\n",
       "      <td>0.0</td>\n",
       "      <td>0</td>\n",
       "    </tr>\n",
       "    <tr>\n",
       "      <th>1</th>\n",
       "      <td>1</td>\n",
       "      <td>3.0</td>\n",
       "      <td>2.0</td>\n",
       "      <td>0.0</td>\n",
       "      <td>1.0</td>\n",
       "      <td>0.0</td>\n",
       "      <td>1.0</td>\n",
       "      <td>0.0</td>\n",
       "      <td>1.0</td>\n",
       "      <td>1.0</td>\n",
       "      <td>...</td>\n",
       "      <td>White</td>\n",
       "      <td>Male</td>\n",
       "      <td>Below Poverty</td>\n",
       "      <td>Not Married</td>\n",
       "      <td>Rent</td>\n",
       "      <td>Employed</td>\n",
       "      <td>MSA, Not Principle  City</td>\n",
       "      <td>0.0</td>\n",
       "      <td>0.0</td>\n",
       "      <td>0</td>\n",
       "    </tr>\n",
       "    <tr>\n",
       "      <th>2</th>\n",
       "      <td>2</td>\n",
       "      <td>1.0</td>\n",
       "      <td>1.0</td>\n",
       "      <td>0.0</td>\n",
       "      <td>1.0</td>\n",
       "      <td>0.0</td>\n",
       "      <td>0.0</td>\n",
       "      <td>0.0</td>\n",
       "      <td>0.0</td>\n",
       "      <td>0.0</td>\n",
       "      <td>...</td>\n",
       "      <td>White</td>\n",
       "      <td>Male</td>\n",
       "      <td>&lt;= $75,000, Above Poverty</td>\n",
       "      <td>Not Married</td>\n",
       "      <td>Own</td>\n",
       "      <td>Employed</td>\n",
       "      <td>MSA, Not Principle  City</td>\n",
       "      <td>2.0</td>\n",
       "      <td>0.0</td>\n",
       "      <td>0</td>\n",
       "    </tr>\n",
       "    <tr>\n",
       "      <th>3</th>\n",
       "      <td>3</td>\n",
       "      <td>1.0</td>\n",
       "      <td>1.0</td>\n",
       "      <td>0.0</td>\n",
       "      <td>1.0</td>\n",
       "      <td>0.0</td>\n",
       "      <td>1.0</td>\n",
       "      <td>1.0</td>\n",
       "      <td>0.0</td>\n",
       "      <td>0.0</td>\n",
       "      <td>...</td>\n",
       "      <td>White</td>\n",
       "      <td>Female</td>\n",
       "      <td>Below Poverty</td>\n",
       "      <td>Not Married</td>\n",
       "      <td>Rent</td>\n",
       "      <td>Not in Labor Force</td>\n",
       "      <td>MSA, Principle City</td>\n",
       "      <td>0.0</td>\n",
       "      <td>0.0</td>\n",
       "      <td>0</td>\n",
       "    </tr>\n",
       "    <tr>\n",
       "      <th>4</th>\n",
       "      <td>4</td>\n",
       "      <td>2.0</td>\n",
       "      <td>1.0</td>\n",
       "      <td>0.0</td>\n",
       "      <td>1.0</td>\n",
       "      <td>0.0</td>\n",
       "      <td>1.0</td>\n",
       "      <td>1.0</td>\n",
       "      <td>0.0</td>\n",
       "      <td>1.0</td>\n",
       "      <td>...</td>\n",
       "      <td>White</td>\n",
       "      <td>Female</td>\n",
       "      <td>&lt;= $75,000, Above Poverty</td>\n",
       "      <td>Married</td>\n",
       "      <td>Own</td>\n",
       "      <td>Employed</td>\n",
       "      <td>MSA, Not Principle  City</td>\n",
       "      <td>1.0</td>\n",
       "      <td>0.0</td>\n",
       "      <td>0</td>\n",
       "    </tr>\n",
       "  </tbody>\n",
       "</table>\n",
       "<p>5 rows × 34 columns</p>\n",
       "</div>"
      ],
      "text/plain": [
       "   unique_id  h1n1_worry  h1n1_awareness  antiviral_medication  \\\n",
       "0          0         1.0             0.0                   0.0   \n",
       "1          1         3.0             2.0                   0.0   \n",
       "2          2         1.0             1.0                   0.0   \n",
       "3          3         1.0             1.0                   0.0   \n",
       "4          4         2.0             1.0                   0.0   \n",
       "\n",
       "   contact_avoidance  bought_face_mask  wash_hands_frequently  \\\n",
       "0                0.0               0.0                    0.0   \n",
       "1                1.0               0.0                    1.0   \n",
       "2                1.0               0.0                    0.0   \n",
       "3                1.0               0.0                    1.0   \n",
       "4                1.0               0.0                    1.0   \n",
       "\n",
       "   avoid_large_gatherings  reduced_outside_home_cont  avoid_touch_face  ...  \\\n",
       "0                     0.0                        1.0               1.0  ...   \n",
       "1                     0.0                        1.0               1.0  ...   \n",
       "2                     0.0                        0.0               0.0  ...   \n",
       "3                     1.0                        0.0               0.0  ...   \n",
       "4                     1.0                        0.0               1.0  ...   \n",
       "\n",
       "    race     sex               income_level  marital_status  housing_status  \\\n",
       "0  White  Female              Below Poverty     Not Married             Own   \n",
       "1  White    Male              Below Poverty     Not Married            Rent   \n",
       "2  White    Male  <= $75,000, Above Poverty     Not Married             Own   \n",
       "3  White  Female              Below Poverty     Not Married            Rent   \n",
       "4  White  Female  <= $75,000, Above Poverty         Married             Own   \n",
       "\n",
       "           employment                census_msa  no_of_adults  no_of_children  \\\n",
       "0  Not in Labor Force                   Non-MSA           0.0             0.0   \n",
       "1            Employed  MSA, Not Principle  City           0.0             0.0   \n",
       "2            Employed  MSA, Not Principle  City           2.0             0.0   \n",
       "3  Not in Labor Force       MSA, Principle City           0.0             0.0   \n",
       "4            Employed  MSA, Not Principle  City           1.0             0.0   \n",
       "\n",
       "   h1n1_vaccine  \n",
       "0             0  \n",
       "1             0  \n",
       "2             0  \n",
       "3             0  \n",
       "4             0  \n",
       "\n",
       "[5 rows x 34 columns]"
      ]
     },
     "execution_count": 3,
     "metadata": {},
     "output_type": "execute_result"
    }
   ],
   "source": [
    "myvaccine_data.head()"
   ]
  },
  {
   "cell_type": "code",
   "execution_count": 4,
   "id": "1d338bf6",
   "metadata": {},
   "outputs": [
    {
     "name": "stdout",
     "output_type": "stream",
     "text": [
      "<class 'pandas.core.frame.DataFrame'>\n",
      "RangeIndex: 26707 entries, 0 to 26706\n",
      "Data columns (total 34 columns):\n",
      " #   Column                     Non-Null Count  Dtype  \n",
      "---  ------                     --------------  -----  \n",
      " 0   unique_id                  26707 non-null  int64  \n",
      " 1   h1n1_worry                 26615 non-null  float64\n",
      " 2   h1n1_awareness             26591 non-null  float64\n",
      " 3   antiviral_medication       26636 non-null  float64\n",
      " 4   contact_avoidance          26499 non-null  float64\n",
      " 5   bought_face_mask           26688 non-null  float64\n",
      " 6   wash_hands_frequently      26665 non-null  float64\n",
      " 7   avoid_large_gatherings     26620 non-null  float64\n",
      " 8   reduced_outside_home_cont  26625 non-null  float64\n",
      " 9   avoid_touch_face           26579 non-null  float64\n",
      " 10  dr_recc_h1n1_vacc          24547 non-null  float64\n",
      " 11  dr_recc_seasonal_vacc      24547 non-null  float64\n",
      " 12  chronic_medic_condition    25736 non-null  float64\n",
      " 13  cont_child_undr_6_mnths    25887 non-null  float64\n",
      " 14  is_health_worker           25903 non-null  float64\n",
      " 15  has_health_insur           14433 non-null  float64\n",
      " 16  is_h1n1_vacc_effective     26316 non-null  float64\n",
      " 17  is_h1n1_risky              26319 non-null  float64\n",
      " 18  sick_from_h1n1_vacc        26312 non-null  float64\n",
      " 19  is_seas_vacc_effective     26245 non-null  float64\n",
      " 20  is_seas_risky              26193 non-null  float64\n",
      " 21  sick_from_seas_vacc        26170 non-null  float64\n",
      " 22  age_bracket                26707 non-null  object \n",
      " 23  qualification              25300 non-null  object \n",
      " 24  race                       26707 non-null  object \n",
      " 25  sex                        26707 non-null  object \n",
      " 26  income_level               22284 non-null  object \n",
      " 27  marital_status             25299 non-null  object \n",
      " 28  housing_status             24665 non-null  object \n",
      " 29  employment                 25244 non-null  object \n",
      " 30  census_msa                 26707 non-null  object \n",
      " 31  no_of_adults               26458 non-null  float64\n",
      " 32  no_of_children             26458 non-null  float64\n",
      " 33  h1n1_vaccine               26707 non-null  int64  \n",
      "dtypes: float64(23), int64(2), object(9)\n",
      "memory usage: 6.9+ MB\n"
     ]
    }
   ],
   "source": [
    "myvaccine_data.info()"
   ]
  },
  {
   "cell_type": "code",
   "execution_count": 5,
   "id": "ae18750b",
   "metadata": {},
   "outputs": [
    {
     "data": {
      "text/plain": [
       "unique_id                        0\n",
       "h1n1_worry                      92\n",
       "h1n1_awareness                 116\n",
       "antiviral_medication            71\n",
       "contact_avoidance              208\n",
       "bought_face_mask                19\n",
       "wash_hands_frequently           42\n",
       "avoid_large_gatherings          87\n",
       "reduced_outside_home_cont       82\n",
       "avoid_touch_face               128\n",
       "dr_recc_h1n1_vacc             2160\n",
       "dr_recc_seasonal_vacc         2160\n",
       "chronic_medic_condition        971\n",
       "cont_child_undr_6_mnths        820\n",
       "is_health_worker               804\n",
       "has_health_insur             12274\n",
       "is_h1n1_vacc_effective         391\n",
       "is_h1n1_risky                  388\n",
       "sick_from_h1n1_vacc            395\n",
       "is_seas_vacc_effective         462\n",
       "is_seas_risky                  514\n",
       "sick_from_seas_vacc            537\n",
       "age_bracket                      0\n",
       "qualification                 1407\n",
       "race                             0\n",
       "sex                              0\n",
       "income_level                  4423\n",
       "marital_status                1408\n",
       "housing_status                2042\n",
       "employment                    1463\n",
       "census_msa                       0\n",
       "no_of_adults                   249\n",
       "no_of_children                 249\n",
       "h1n1_vaccine                     0\n",
       "dtype: int64"
      ]
     },
     "execution_count": 5,
     "metadata": {},
     "output_type": "execute_result"
    }
   ],
   "source": [
    "myvaccine_data.isnull().sum()"
   ]
  },
  {
   "cell_type": "markdown",
   "id": "fb87871f",
   "metadata": {},
   "source": [
    "# Drop null values"
   ]
  },
  {
   "cell_type": "code",
   "execution_count": 6,
   "id": "2f58c608",
   "metadata": {},
   "outputs": [],
   "source": [
    "myvaccine_data.dropna(inplace=True,axis=0)"
   ]
  },
  {
   "cell_type": "code",
   "execution_count": 7,
   "id": "da4e2e82",
   "metadata": {},
   "outputs": [
    {
     "data": {
      "text/plain": [
       "unique_id                    0\n",
       "h1n1_worry                   0\n",
       "h1n1_awareness               0\n",
       "antiviral_medication         0\n",
       "contact_avoidance            0\n",
       "bought_face_mask             0\n",
       "wash_hands_frequently        0\n",
       "avoid_large_gatherings       0\n",
       "reduced_outside_home_cont    0\n",
       "avoid_touch_face             0\n",
       "dr_recc_h1n1_vacc            0\n",
       "dr_recc_seasonal_vacc        0\n",
       "chronic_medic_condition      0\n",
       "cont_child_undr_6_mnths      0\n",
       "is_health_worker             0\n",
       "has_health_insur             0\n",
       "is_h1n1_vacc_effective       0\n",
       "is_h1n1_risky                0\n",
       "sick_from_h1n1_vacc          0\n",
       "is_seas_vacc_effective       0\n",
       "is_seas_risky                0\n",
       "sick_from_seas_vacc          0\n",
       "age_bracket                  0\n",
       "qualification                0\n",
       "race                         0\n",
       "sex                          0\n",
       "income_level                 0\n",
       "marital_status               0\n",
       "housing_status               0\n",
       "employment                   0\n",
       "census_msa                   0\n",
       "no_of_adults                 0\n",
       "no_of_children               0\n",
       "h1n1_vaccine                 0\n",
       "dtype: int64"
      ]
     },
     "execution_count": 7,
     "metadata": {},
     "output_type": "execute_result"
    }
   ],
   "source": [
    "myvaccine_data.isnull().sum()"
   ]
  },
  {
   "cell_type": "code",
   "execution_count": 8,
   "id": "89fde38e",
   "metadata": {},
   "outputs": [
    {
     "name": "stdout",
     "output_type": "stream",
     "text": [
      "<class 'pandas.core.frame.DataFrame'>\n",
      "Int64Index: 11794 entries, 0 to 26706\n",
      "Data columns (total 34 columns):\n",
      " #   Column                     Non-Null Count  Dtype  \n",
      "---  ------                     --------------  -----  \n",
      " 0   unique_id                  11794 non-null  int64  \n",
      " 1   h1n1_worry                 11794 non-null  float64\n",
      " 2   h1n1_awareness             11794 non-null  float64\n",
      " 3   antiviral_medication       11794 non-null  float64\n",
      " 4   contact_avoidance          11794 non-null  float64\n",
      " 5   bought_face_mask           11794 non-null  float64\n",
      " 6   wash_hands_frequently      11794 non-null  float64\n",
      " 7   avoid_large_gatherings     11794 non-null  float64\n",
      " 8   reduced_outside_home_cont  11794 non-null  float64\n",
      " 9   avoid_touch_face           11794 non-null  float64\n",
      " 10  dr_recc_h1n1_vacc          11794 non-null  float64\n",
      " 11  dr_recc_seasonal_vacc      11794 non-null  float64\n",
      " 12  chronic_medic_condition    11794 non-null  float64\n",
      " 13  cont_child_undr_6_mnths    11794 non-null  float64\n",
      " 14  is_health_worker           11794 non-null  float64\n",
      " 15  has_health_insur           11794 non-null  float64\n",
      " 16  is_h1n1_vacc_effective     11794 non-null  float64\n",
      " 17  is_h1n1_risky              11794 non-null  float64\n",
      " 18  sick_from_h1n1_vacc        11794 non-null  float64\n",
      " 19  is_seas_vacc_effective     11794 non-null  float64\n",
      " 20  is_seas_risky              11794 non-null  float64\n",
      " 21  sick_from_seas_vacc        11794 non-null  float64\n",
      " 22  age_bracket                11794 non-null  object \n",
      " 23  qualification              11794 non-null  object \n",
      " 24  race                       11794 non-null  object \n",
      " 25  sex                        11794 non-null  object \n",
      " 26  income_level               11794 non-null  object \n",
      " 27  marital_status             11794 non-null  object \n",
      " 28  housing_status             11794 non-null  object \n",
      " 29  employment                 11794 non-null  object \n",
      " 30  census_msa                 11794 non-null  object \n",
      " 31  no_of_adults               11794 non-null  float64\n",
      " 32  no_of_children             11794 non-null  float64\n",
      " 33  h1n1_vaccine               11794 non-null  int64  \n",
      "dtypes: float64(23), int64(2), object(9)\n",
      "memory usage: 3.1+ MB\n"
     ]
    }
   ],
   "source": [
    "myvaccine_data.info()"
   ]
  },
  {
   "cell_type": "markdown",
   "id": "2abe828a",
   "metadata": {},
   "source": [
    "# Drop D-type \"objects\" not relevant to prediction"
   ]
  },
  {
   "cell_type": "code",
   "execution_count": 9,
   "id": "94e288fb",
   "metadata": {},
   "outputs": [],
   "source": [
    "myvaccine_data.drop(['qualification','race','income_level','marital_status','housing_status','employment','census_msa'], axis = 1, inplace = True)"
   ]
  },
  {
   "cell_type": "code",
   "execution_count": 10,
   "id": "04f6baaa",
   "metadata": {},
   "outputs": [
    {
     "name": "stdout",
     "output_type": "stream",
     "text": [
      "<class 'pandas.core.frame.DataFrame'>\n",
      "Int64Index: 11794 entries, 0 to 26706\n",
      "Data columns (total 27 columns):\n",
      " #   Column                     Non-Null Count  Dtype  \n",
      "---  ------                     --------------  -----  \n",
      " 0   unique_id                  11794 non-null  int64  \n",
      " 1   h1n1_worry                 11794 non-null  float64\n",
      " 2   h1n1_awareness             11794 non-null  float64\n",
      " 3   antiviral_medication       11794 non-null  float64\n",
      " 4   contact_avoidance          11794 non-null  float64\n",
      " 5   bought_face_mask           11794 non-null  float64\n",
      " 6   wash_hands_frequently      11794 non-null  float64\n",
      " 7   avoid_large_gatherings     11794 non-null  float64\n",
      " 8   reduced_outside_home_cont  11794 non-null  float64\n",
      " 9   avoid_touch_face           11794 non-null  float64\n",
      " 10  dr_recc_h1n1_vacc          11794 non-null  float64\n",
      " 11  dr_recc_seasonal_vacc      11794 non-null  float64\n",
      " 12  chronic_medic_condition    11794 non-null  float64\n",
      " 13  cont_child_undr_6_mnths    11794 non-null  float64\n",
      " 14  is_health_worker           11794 non-null  float64\n",
      " 15  has_health_insur           11794 non-null  float64\n",
      " 16  is_h1n1_vacc_effective     11794 non-null  float64\n",
      " 17  is_h1n1_risky              11794 non-null  float64\n",
      " 18  sick_from_h1n1_vacc        11794 non-null  float64\n",
      " 19  is_seas_vacc_effective     11794 non-null  float64\n",
      " 20  is_seas_risky              11794 non-null  float64\n",
      " 21  sick_from_seas_vacc        11794 non-null  float64\n",
      " 22  age_bracket                11794 non-null  object \n",
      " 23  sex                        11794 non-null  object \n",
      " 24  no_of_adults               11794 non-null  float64\n",
      " 25  no_of_children             11794 non-null  float64\n",
      " 26  h1n1_vaccine               11794 non-null  int64  \n",
      "dtypes: float64(23), int64(2), object(2)\n",
      "memory usage: 2.5+ MB\n"
     ]
    }
   ],
   "source": [
    "myvaccine_data.info()"
   ]
  },
  {
   "cell_type": "code",
   "execution_count": 11,
   "id": "b3c239e4",
   "metadata": {},
   "outputs": [],
   "source": [
    "#Convert objects as binary"
   ]
  },
  {
   "cell_type": "code",
   "execution_count": 12,
   "id": "d5e27195",
   "metadata": {},
   "outputs": [],
   "source": [
    "from sklearn.preprocessing import LabelEncoder"
   ]
  },
  {
   "cell_type": "code",
   "execution_count": 13,
   "id": "07301513",
   "metadata": {},
   "outputs": [],
   "source": [
    "LE=LabelEncoder()"
   ]
  },
  {
   "cell_type": "code",
   "execution_count": 14,
   "id": "ddaf63c5",
   "metadata": {},
   "outputs": [],
   "source": [
    "myvaccine_data[\"age_bracket\"]=LE.fit_transform(myvaccine_data.age_bracket)\n",
    "myvaccine_data[\"sex\"]=LE.fit_transform(myvaccine_data.sex)"
   ]
  },
  {
   "cell_type": "code",
   "execution_count": 15,
   "id": "67423b31",
   "metadata": {},
   "outputs": [
    {
     "name": "stdout",
     "output_type": "stream",
     "text": [
      "<class 'pandas.core.frame.DataFrame'>\n",
      "Int64Index: 11794 entries, 0 to 26706\n",
      "Data columns (total 27 columns):\n",
      " #   Column                     Non-Null Count  Dtype  \n",
      "---  ------                     --------------  -----  \n",
      " 0   unique_id                  11794 non-null  int64  \n",
      " 1   h1n1_worry                 11794 non-null  float64\n",
      " 2   h1n1_awareness             11794 non-null  float64\n",
      " 3   antiviral_medication       11794 non-null  float64\n",
      " 4   contact_avoidance          11794 non-null  float64\n",
      " 5   bought_face_mask           11794 non-null  float64\n",
      " 6   wash_hands_frequently      11794 non-null  float64\n",
      " 7   avoid_large_gatherings     11794 non-null  float64\n",
      " 8   reduced_outside_home_cont  11794 non-null  float64\n",
      " 9   avoid_touch_face           11794 non-null  float64\n",
      " 10  dr_recc_h1n1_vacc          11794 non-null  float64\n",
      " 11  dr_recc_seasonal_vacc      11794 non-null  float64\n",
      " 12  chronic_medic_condition    11794 non-null  float64\n",
      " 13  cont_child_undr_6_mnths    11794 non-null  float64\n",
      " 14  is_health_worker           11794 non-null  float64\n",
      " 15  has_health_insur           11794 non-null  float64\n",
      " 16  is_h1n1_vacc_effective     11794 non-null  float64\n",
      " 17  is_h1n1_risky              11794 non-null  float64\n",
      " 18  sick_from_h1n1_vacc        11794 non-null  float64\n",
      " 19  is_seas_vacc_effective     11794 non-null  float64\n",
      " 20  is_seas_risky              11794 non-null  float64\n",
      " 21  sick_from_seas_vacc        11794 non-null  float64\n",
      " 22  age_bracket                11794 non-null  int32  \n",
      " 23  sex                        11794 non-null  int32  \n",
      " 24  no_of_adults               11794 non-null  float64\n",
      " 25  no_of_children             11794 non-null  float64\n",
      " 26  h1n1_vaccine               11794 non-null  int64  \n",
      "dtypes: float64(23), int32(2), int64(2)\n",
      "memory usage: 2.4 MB\n"
     ]
    }
   ],
   "source": [
    "myvaccine_data.info()"
   ]
  },
  {
   "cell_type": "code",
   "execution_count": 16,
   "id": "a9d56885",
   "metadata": {},
   "outputs": [],
   "source": [
    "#Countplot graph showing vaccine count for children"
   ]
  },
  {
   "cell_type": "code",
   "execution_count": 17,
   "id": "04d0c00b",
   "metadata": {},
   "outputs": [
    {
     "data": {
      "image/png": "[encoded data removed]",
      "text/plain": [
       "<Figure size 432x288 with 1 Axes>"
      ]
     },
     "metadata": {
      "needs_background": "light"
     },
     "output_type": "display_data"
    }
   ],
   "source": [
    "sns.countplot(x=\"no_of_children\",data=myvaccine_data,hue=\"h1n1_vaccine\");"
   ]
  },
  {
   "cell_type": "code",
   "execution_count": 18,
   "id": "bff81cd0",
   "metadata": {},
   "outputs": [],
   "source": [
    "#Histogram plot graph showing vaccine count for adults"
   ]
  },
  {
   "cell_type": "code",
   "execution_count": 19,
   "id": "f92f3ea2",
   "metadata": {},
   "outputs": [
    {
     "data": {
      "image/png": "[encoded data removed]",
      "text/plain": [
       "<Figure size 432x288 with 1 Axes>"
      ]
     },
     "metadata": {
      "needs_background": "light"
     },
     "output_type": "display_data"
    }
   ],
   "source": [
    "myvaccine_data.no_of_adults.plot.hist(color=\"green\");"
   ]
  },
  {
   "cell_type": "code",
   "execution_count": 20,
   "id": "7e0c26d0",
   "metadata": {},
   "outputs": [],
   "source": [
    "#Countplot graph showing vaccine count for children"
   ]
  },
  {
   "cell_type": "code",
   "execution_count": 21,
   "id": "2dbcae70",
   "metadata": {},
   "outputs": [
    {
     "data": {
      "text/plain": [
       "Text(0.5, 1.0, 'Total no_of_children')"
      ]
     },
     "execution_count": 21,
     "metadata": {},
     "output_type": "execute_result"
    },
    {
     "data": {
      "image/png": "[encoded data removed]",
      "text/plain": [
       "<Figure size 1440x504 with 1 Axes>"
      ]
     },
     "metadata": {},
     "output_type": "display_data"
    }
   ],
   "source": [
    "plt.figure(figsize=(20,7),facecolor=\"lightgrey\",frameon=True,edgecolor='blue')\n",
    "#sns.countplot(mydata_liver.Total_Protiens,hue=\"Gender\")\n",
    "sns.countplot(x=\"no_of_children\",data=myvaccine_data,hue=\"h1n1_vaccine\");\n",
    "plt.title(\"Total no_of_children\")\n"
   ]
  },
  {
   "cell_type": "code",
   "execution_count": 22,
   "id": "53dde79f",
   "metadata": {},
   "outputs": [],
   "source": [
    "#Scatter plot graph showing total_no_of_children vs total_no of adults "
   ]
  },
  {
   "cell_type": "code",
   "execution_count": 23,
   "id": "1a0aaff6",
   "metadata": {},
   "outputs": [
    {
     "data": {
      "text/plain": [
       "Text(0.5, 1.0, 'TC vs TA')"
      ]
     },
     "execution_count": 23,
     "metadata": {},
     "output_type": "execute_result"
    },
    {
     "data": {
      "image/png": "[encoded data removed]",
      "text/plain": [
       "<Figure size 576x432 with 1 Axes>"
      ]
     },
     "metadata": {},
     "output_type": "display_data"
    }
   ],
   "source": [
    "plt.figure(figsize=(8,6),facecolor=\"lightgrey\")\n",
    "plt.scatter(myvaccine_data.no_of_children,myvaccine_data.no_of_adults,\n",
    "           color=\"black\",alpha=0.9,edgecolors=\"greenyellow\",linewidths=2,s=400)\n",
    "plt.xlabel(\"Total Children\")\n",
    "plt.ylabel(\"Total Adults\")\n",
    "plt.title(\"TC vs TA\")"
   ]
  },
  {
   "cell_type": "code",
   "execution_count": 24,
   "id": "1e1e8ce8",
   "metadata": {},
   "outputs": [],
   "source": [
    "#boxplot graph showing total_no_of_children vs total_no of adults "
   ]
  },
  {
   "cell_type": "code",
   "execution_count": 25,
   "id": "5415f2a2",
   "metadata": {},
   "outputs": [
    {
     "data": {
      "image/png": "[encoded data removed]",
      "text/plain": [
       "<Figure size 432x288 with 1 Axes>"
      ]
     },
     "metadata": {
      "needs_background": "light"
     },
     "output_type": "display_data"
    }
   ],
   "source": [
    "sns.boxplot(x=\"is_h1n1_risky\",y=\"h1n1_vaccine\",data=myvaccine_data);"
   ]
  },
  {
   "cell_type": "code",
   "execution_count": 26,
   "id": "af83c1f3",
   "metadata": {},
   "outputs": [],
   "source": [
    "#Violinplot graph showing people with chronic medical condition"
   ]
  },
  {
   "cell_type": "code",
   "execution_count": 27,
   "id": "acfeff0b",
   "metadata": {},
   "outputs": [
    {
     "data": {
      "image/png": "[encoded data removed]",
      "text/plain": [
       "<Figure size 432x288 with 1 Axes>"
      ]
     },
     "metadata": {
      "needs_background": "light"
     },
     "output_type": "display_data"
    }
   ],
   "source": [
    "sns.violinplot(x=\"chronic_medic_condition\",y=\"h1n1_vaccine\",data=myvaccine_data);"
   ]
  },
  {
   "cell_type": "code",
   "execution_count": 28,
   "id": "219cb6af",
   "metadata": {},
   "outputs": [
    {
     "name": "stdout",
     "output_type": "stream",
     "text": [
      "<class 'pandas.core.frame.DataFrame'>\n",
      "Int64Index: 11794 entries, 0 to 26706\n",
      "Data columns (total 27 columns):\n",
      " #   Column                     Non-Null Count  Dtype  \n",
      "---  ------                     --------------  -----  \n",
      " 0   unique_id                  11794 non-null  int64  \n",
      " 1   h1n1_worry                 11794 non-null  float64\n",
      " 2   h1n1_awareness             11794 non-null  float64\n",
      " 3   antiviral_medication       11794 non-null  float64\n",
      " 4   contact_avoidance          11794 non-null  float64\n",
      " 5   bought_face_mask           11794 non-null  float64\n",
      " 6   wash_hands_frequently      11794 non-null  float64\n",
      " 7   avoid_large_gatherings     11794 non-null  float64\n",
      " 8   reduced_outside_home_cont  11794 non-null  float64\n",
      " 9   avoid_touch_face           11794 non-null  float64\n",
      " 10  dr_recc_h1n1_vacc          11794 non-null  float64\n",
      " 11  dr_recc_seasonal_vacc      11794 non-null  float64\n",
      " 12  chronic_medic_condition    11794 non-null  float64\n",
      " 13  cont_child_undr_6_mnths    11794 non-null  float64\n",
      " 14  is_health_worker           11794 non-null  float64\n",
      " 15  has_health_insur           11794 non-null  float64\n",
      " 16  is_h1n1_vacc_effective     11794 non-null  float64\n",
      " 17  is_h1n1_risky              11794 non-null  float64\n",
      " 18  sick_from_h1n1_vacc        11794 non-null  float64\n",
      " 19  is_seas_vacc_effective     11794 non-null  float64\n",
      " 20  is_seas_risky              11794 non-null  float64\n",
      " 21  sick_from_seas_vacc        11794 non-null  float64\n",
      " 22  age_bracket                11794 non-null  int32  \n",
      " 23  sex                        11794 non-null  int32  \n",
      " 24  no_of_adults               11794 non-null  float64\n",
      " 25  no_of_children             11794 non-null  float64\n",
      " 26  h1n1_vaccine               11794 non-null  int64  \n",
      "dtypes: float64(23), int32(2), int64(2)\n",
      "memory usage: 2.7 MB\n"
     ]
    }
   ],
   "source": [
    "myvaccine_data.info()"
   ]
  },
  {
   "cell_type": "code",
   "execution_count": 29,
   "id": "c7cc3d05",
   "metadata": {},
   "outputs": [],
   "source": [
    "y_dep=myvaccine_data.iloc[:,26]"
   ]
  },
  {
   "cell_type": "code",
   "execution_count": 30,
   "id": "59b570b4",
   "metadata": {},
   "outputs": [
    {
     "data": {
      "text/plain": [
       "0        0\n",
       "1        0\n",
       "7        1\n",
       "9        0\n",
       "10       1\n",
       "        ..\n",
       "26697    0\n",
       "26699    0\n",
       "26701    0\n",
       "26703    0\n",
       "26706    0\n",
       "Name: h1n1_vaccine, Length: 11794, dtype: int64"
      ]
     },
     "execution_count": 30,
     "metadata": {},
     "output_type": "execute_result"
    }
   ],
   "source": [
    "y_dep"
   ]
  },
  {
   "cell_type": "code",
   "execution_count": 31,
   "id": "edbe1739",
   "metadata": {},
   "outputs": [],
   "source": [
    "#Assigning dependent and independent variables using Iloc"
   ]
  },
  {
   "cell_type": "code",
   "execution_count": 32,
   "id": "9a6c1ff1",
   "metadata": {},
   "outputs": [],
   "source": [
    "x_ind=myvaccine_data.iloc[:,1:26]"
   ]
  },
  {
   "cell_type": "code",
   "execution_count": 33,
   "id": "e6dd9b90",
   "metadata": {},
   "outputs": [
    {
     "data": {
      "text/html": [
       "<div>\n",
       "<style scoped>\n",
       "    .dataframe tbody tr th:only-of-type {\n",
       "        vertical-align: middle;\n",
       "    }\n",
       "\n",
       "    .dataframe tbody tr th {\n",
       "        vertical-align: top;\n",
       "    }\n",
       "\n",
       "    .dataframe thead th {\n",
       "        text-align: right;\n",
       "    }\n",
       "</style>\n",
       "<table border=\"1\" class=\"dataframe\">\n",
       "  <thead>\n",
       "    <tr style=\"text-align: right;\">\n",
       "      <th></th>\n",
       "      <th>h1n1_worry</th>\n",
       "      <th>h1n1_awareness</th>\n",
       "      <th>antiviral_medication</th>\n",
       "      <th>contact_avoidance</th>\n",
       "      <th>bought_face_mask</th>\n",
       "      <th>wash_hands_frequently</th>\n",
       "      <th>avoid_large_gatherings</th>\n",
       "      <th>reduced_outside_home_cont</th>\n",
       "      <th>avoid_touch_face</th>\n",
       "      <th>dr_recc_h1n1_vacc</th>\n",
       "      <th>...</th>\n",
       "      <th>is_h1n1_vacc_effective</th>\n",
       "      <th>is_h1n1_risky</th>\n",
       "      <th>sick_from_h1n1_vacc</th>\n",
       "      <th>is_seas_vacc_effective</th>\n",
       "      <th>is_seas_risky</th>\n",
       "      <th>sick_from_seas_vacc</th>\n",
       "      <th>age_bracket</th>\n",
       "      <th>sex</th>\n",
       "      <th>no_of_adults</th>\n",
       "      <th>no_of_children</th>\n",
       "    </tr>\n",
       "  </thead>\n",
       "  <tbody>\n",
       "    <tr>\n",
       "      <th>0</th>\n",
       "      <td>1.0</td>\n",
       "      <td>0.0</td>\n",
       "      <td>0.0</td>\n",
       "      <td>0.0</td>\n",
       "      <td>0.0</td>\n",
       "      <td>0.0</td>\n",
       "      <td>0.0</td>\n",
       "      <td>1.0</td>\n",
       "      <td>1.0</td>\n",
       "      <td>0.0</td>\n",
       "      <td>...</td>\n",
       "      <td>3.0</td>\n",
       "      <td>1.0</td>\n",
       "      <td>2.0</td>\n",
       "      <td>2.0</td>\n",
       "      <td>1.0</td>\n",
       "      <td>2.0</td>\n",
       "      <td>3</td>\n",
       "      <td>0</td>\n",
       "      <td>0.0</td>\n",
       "      <td>0.0</td>\n",
       "    </tr>\n",
       "    <tr>\n",
       "      <th>1</th>\n",
       "      <td>3.0</td>\n",
       "      <td>2.0</td>\n",
       "      <td>0.0</td>\n",
       "      <td>1.0</td>\n",
       "      <td>0.0</td>\n",
       "      <td>1.0</td>\n",
       "      <td>0.0</td>\n",
       "      <td>1.0</td>\n",
       "      <td>1.0</td>\n",
       "      <td>0.0</td>\n",
       "      <td>...</td>\n",
       "      <td>5.0</td>\n",
       "      <td>4.0</td>\n",
       "      <td>4.0</td>\n",
       "      <td>4.0</td>\n",
       "      <td>2.0</td>\n",
       "      <td>4.0</td>\n",
       "      <td>1</td>\n",
       "      <td>1</td>\n",
       "      <td>0.0</td>\n",
       "      <td>0.0</td>\n",
       "    </tr>\n",
       "    <tr>\n",
       "      <th>7</th>\n",
       "      <td>1.0</td>\n",
       "      <td>0.0</td>\n",
       "      <td>0.0</td>\n",
       "      <td>1.0</td>\n",
       "      <td>0.0</td>\n",
       "      <td>1.0</td>\n",
       "      <td>0.0</td>\n",
       "      <td>0.0</td>\n",
       "      <td>1.0</td>\n",
       "      <td>1.0</td>\n",
       "      <td>...</td>\n",
       "      <td>5.0</td>\n",
       "      <td>2.0</td>\n",
       "      <td>1.0</td>\n",
       "      <td>4.0</td>\n",
       "      <td>2.0</td>\n",
       "      <td>1.0</td>\n",
       "      <td>2</td>\n",
       "      <td>0</td>\n",
       "      <td>2.0</td>\n",
       "      <td>0.0</td>\n",
       "    </tr>\n",
       "    <tr>\n",
       "      <th>9</th>\n",
       "      <td>2.0</td>\n",
       "      <td>1.0</td>\n",
       "      <td>0.0</td>\n",
       "      <td>1.0</td>\n",
       "      <td>0.0</td>\n",
       "      <td>0.0</td>\n",
       "      <td>1.0</td>\n",
       "      <td>0.0</td>\n",
       "      <td>1.0</td>\n",
       "      <td>0.0</td>\n",
       "      <td>...</td>\n",
       "      <td>4.0</td>\n",
       "      <td>2.0</td>\n",
       "      <td>2.0</td>\n",
       "      <td>4.0</td>\n",
       "      <td>2.0</td>\n",
       "      <td>2.0</td>\n",
       "      <td>3</td>\n",
       "      <td>1</td>\n",
       "      <td>0.0</td>\n",
       "      <td>0.0</td>\n",
       "    </tr>\n",
       "    <tr>\n",
       "      <th>10</th>\n",
       "      <td>2.0</td>\n",
       "      <td>1.0</td>\n",
       "      <td>0.0</td>\n",
       "      <td>1.0</td>\n",
       "      <td>0.0</td>\n",
       "      <td>1.0</td>\n",
       "      <td>1.0</td>\n",
       "      <td>0.0</td>\n",
       "      <td>0.0</td>\n",
       "      <td>0.0</td>\n",
       "      <td>...</td>\n",
       "      <td>4.0</td>\n",
       "      <td>1.0</td>\n",
       "      <td>2.0</td>\n",
       "      <td>5.0</td>\n",
       "      <td>4.0</td>\n",
       "      <td>4.0</td>\n",
       "      <td>2</td>\n",
       "      <td>1</td>\n",
       "      <td>2.0</td>\n",
       "      <td>0.0</td>\n",
       "    </tr>\n",
       "    <tr>\n",
       "      <th>...</th>\n",
       "      <td>...</td>\n",
       "      <td>...</td>\n",
       "      <td>...</td>\n",
       "      <td>...</td>\n",
       "      <td>...</td>\n",
       "      <td>...</td>\n",
       "      <td>...</td>\n",
       "      <td>...</td>\n",
       "      <td>...</td>\n",
       "      <td>...</td>\n",
       "      <td>...</td>\n",
       "      <td>...</td>\n",
       "      <td>...</td>\n",
       "      <td>...</td>\n",
       "      <td>...</td>\n",
       "      <td>...</td>\n",
       "      <td>...</td>\n",
       "      <td>...</td>\n",
       "      <td>...</td>\n",
       "      <td>...</td>\n",
       "      <td>...</td>\n",
       "    </tr>\n",
       "    <tr>\n",
       "      <th>26697</th>\n",
       "      <td>1.0</td>\n",
       "      <td>1.0</td>\n",
       "      <td>0.0</td>\n",
       "      <td>1.0</td>\n",
       "      <td>0.0</td>\n",
       "      <td>1.0</td>\n",
       "      <td>0.0</td>\n",
       "      <td>1.0</td>\n",
       "      <td>1.0</td>\n",
       "      <td>1.0</td>\n",
       "      <td>...</td>\n",
       "      <td>4.0</td>\n",
       "      <td>2.0</td>\n",
       "      <td>2.0</td>\n",
       "      <td>4.0</td>\n",
       "      <td>2.0</td>\n",
       "      <td>2.0</td>\n",
       "      <td>4</td>\n",
       "      <td>1</td>\n",
       "      <td>1.0</td>\n",
       "      <td>0.0</td>\n",
       "    </tr>\n",
       "    <tr>\n",
       "      <th>26699</th>\n",
       "      <td>2.0</td>\n",
       "      <td>2.0</td>\n",
       "      <td>0.0</td>\n",
       "      <td>1.0</td>\n",
       "      <td>0.0</td>\n",
       "      <td>1.0</td>\n",
       "      <td>1.0</td>\n",
       "      <td>0.0</td>\n",
       "      <td>1.0</td>\n",
       "      <td>0.0</td>\n",
       "      <td>...</td>\n",
       "      <td>5.0</td>\n",
       "      <td>1.0</td>\n",
       "      <td>5.0</td>\n",
       "      <td>5.0</td>\n",
       "      <td>1.0</td>\n",
       "      <td>4.0</td>\n",
       "      <td>2</td>\n",
       "      <td>0</td>\n",
       "      <td>1.0</td>\n",
       "      <td>0.0</td>\n",
       "    </tr>\n",
       "    <tr>\n",
       "      <th>26701</th>\n",
       "      <td>2.0</td>\n",
       "      <td>2.0</td>\n",
       "      <td>0.0</td>\n",
       "      <td>0.0</td>\n",
       "      <td>0.0</td>\n",
       "      <td>1.0</td>\n",
       "      <td>0.0</td>\n",
       "      <td>0.0</td>\n",
       "      <td>1.0</td>\n",
       "      <td>0.0</td>\n",
       "      <td>...</td>\n",
       "      <td>4.0</td>\n",
       "      <td>2.0</td>\n",
       "      <td>4.0</td>\n",
       "      <td>4.0</td>\n",
       "      <td>2.0</td>\n",
       "      <td>4.0</td>\n",
       "      <td>0</td>\n",
       "      <td>0</td>\n",
       "      <td>3.0</td>\n",
       "      <td>0.0</td>\n",
       "    </tr>\n",
       "    <tr>\n",
       "      <th>26703</th>\n",
       "      <td>1.0</td>\n",
       "      <td>2.0</td>\n",
       "      <td>0.0</td>\n",
       "      <td>1.0</td>\n",
       "      <td>0.0</td>\n",
       "      <td>1.0</td>\n",
       "      <td>0.0</td>\n",
       "      <td>0.0</td>\n",
       "      <td>0.0</td>\n",
       "      <td>1.0</td>\n",
       "      <td>...</td>\n",
       "      <td>4.0</td>\n",
       "      <td>2.0</td>\n",
       "      <td>2.0</td>\n",
       "      <td>5.0</td>\n",
       "      <td>1.0</td>\n",
       "      <td>1.0</td>\n",
       "      <td>0</td>\n",
       "      <td>1</td>\n",
       "      <td>1.0</td>\n",
       "      <td>0.0</td>\n",
       "    </tr>\n",
       "    <tr>\n",
       "      <th>26706</th>\n",
       "      <td>0.0</td>\n",
       "      <td>0.0</td>\n",
       "      <td>0.0</td>\n",
       "      <td>1.0</td>\n",
       "      <td>0.0</td>\n",
       "      <td>0.0</td>\n",
       "      <td>0.0</td>\n",
       "      <td>0.0</td>\n",
       "      <td>0.0</td>\n",
       "      <td>0.0</td>\n",
       "      <td>...</td>\n",
       "      <td>5.0</td>\n",
       "      <td>1.0</td>\n",
       "      <td>1.0</td>\n",
       "      <td>5.0</td>\n",
       "      <td>1.0</td>\n",
       "      <td>1.0</td>\n",
       "      <td>4</td>\n",
       "      <td>1</td>\n",
       "      <td>1.0</td>\n",
       "      <td>0.0</td>\n",
       "    </tr>\n",
       "  </tbody>\n",
       "</table>\n",
       "<p>11794 rows × 25 columns</p>\n",
       "</div>"
      ],
      "text/plain": [
       "       h1n1_worry  h1n1_awareness  antiviral_medication  contact_avoidance  \\\n",
       "0             1.0             0.0                   0.0                0.0   \n",
       "1             3.0             2.0                   0.0                1.0   \n",
       "7             1.0             0.0                   0.0                1.0   \n",
       "9             2.0             1.0                   0.0                1.0   \n",
       "10            2.0             1.0                   0.0                1.0   \n",
       "...           ...             ...                   ...                ...   \n",
       "26697         1.0             1.0                   0.0                1.0   \n",
       "26699         2.0             2.0                   0.0                1.0   \n",
       "26701         2.0             2.0                   0.0                0.0   \n",
       "26703         1.0             2.0                   0.0                1.0   \n",
       "26706         0.0             0.0                   0.0                1.0   \n",
       "\n",
       "       bought_face_mask  wash_hands_frequently  avoid_large_gatherings  \\\n",
       "0                   0.0                    0.0                     0.0   \n",
       "1                   0.0                    1.0                     0.0   \n",
       "7                   0.0                    1.0                     0.0   \n",
       "9                   0.0                    0.0                     1.0   \n",
       "10                  0.0                    1.0                     1.0   \n",
       "...                 ...                    ...                     ...   \n",
       "26697               0.0                    1.0                     0.0   \n",
       "26699               0.0                    1.0                     1.0   \n",
       "26701               0.0                    1.0                     0.0   \n",
       "26703               0.0                    1.0                     0.0   \n",
       "26706               0.0                    0.0                     0.0   \n",
       "\n",
       "       reduced_outside_home_cont  avoid_touch_face  dr_recc_h1n1_vacc  ...  \\\n",
       "0                            1.0               1.0                0.0  ...   \n",
       "1                            1.0               1.0                0.0  ...   \n",
       "7                            0.0               1.0                1.0  ...   \n",
       "9                            0.0               1.0                0.0  ...   \n",
       "10                           0.0               0.0                0.0  ...   \n",
       "...                          ...               ...                ...  ...   \n",
       "26697                        1.0               1.0                1.0  ...   \n",
       "26699                        0.0               1.0                0.0  ...   \n",
       "26701                        0.0               1.0                0.0  ...   \n",
       "26703                        0.0               0.0                1.0  ...   \n",
       "26706                        0.0               0.0                0.0  ...   \n",
       "\n",
       "       is_h1n1_vacc_effective  is_h1n1_risky  sick_from_h1n1_vacc  \\\n",
       "0                         3.0            1.0                  2.0   \n",
       "1                         5.0            4.0                  4.0   \n",
       "7                         5.0            2.0                  1.0   \n",
       "9                         4.0            2.0                  2.0   \n",
       "10                        4.0            1.0                  2.0   \n",
       "...                       ...            ...                  ...   \n",
       "26697                     4.0            2.0                  2.0   \n",
       "26699                     5.0            1.0                  5.0   \n",
       "26701                     4.0            2.0                  4.0   \n",
       "26703                     4.0            2.0                  2.0   \n",
       "26706                     5.0            1.0                  1.0   \n",
       "\n",
       "       is_seas_vacc_effective  is_seas_risky  sick_from_seas_vacc  \\\n",
       "0                         2.0            1.0                  2.0   \n",
       "1                         4.0            2.0                  4.0   \n",
       "7                         4.0            2.0                  1.0   \n",
       "9                         4.0            2.0                  2.0   \n",
       "10                        5.0            4.0                  4.0   \n",
       "...                       ...            ...                  ...   \n",
       "26697                     4.0            2.0                  2.0   \n",
       "26699                     5.0            1.0                  4.0   \n",
       "26701                     4.0            2.0                  4.0   \n",
       "26703                     5.0            1.0                  1.0   \n",
       "26706                     5.0            1.0                  1.0   \n",
       "\n",
       "       age_bracket  sex  no_of_adults  no_of_children  \n",
       "0                3    0           0.0             0.0  \n",
       "1                1    1           0.0             0.0  \n",
       "7                2    0           2.0             0.0  \n",
       "9                3    1           0.0             0.0  \n",
       "10               2    1           2.0             0.0  \n",
       "...            ...  ...           ...             ...  \n",
       "26697            4    1           1.0             0.0  \n",
       "26699            2    0           1.0             0.0  \n",
       "26701            0    0           3.0             0.0  \n",
       "26703            0    1           1.0             0.0  \n",
       "26706            4    1           1.0             0.0  \n",
       "\n",
       "[11794 rows x 25 columns]"
      ]
     },
     "execution_count": 33,
     "metadata": {},
     "output_type": "execute_result"
    }
   ],
   "source": [
    "x_ind"
   ]
  },
  {
   "cell_type": "code",
   "execution_count": 34,
   "id": "b8cf5f25",
   "metadata": {},
   "outputs": [],
   "source": [
    "from sklearn.model_selection import train_test_split"
   ]
  },
  {
   "cell_type": "code",
   "execution_count": 35,
   "id": "c4968507",
   "metadata": {},
   "outputs": [],
   "source": [
    "x_train,x_test,y_train,y_test=train_test_split(x_ind,y_dep,test_size=0.2,random_state=2)"
   ]
  },
  {
   "cell_type": "code",
   "execution_count": 36,
   "id": "3acc454a",
   "metadata": {},
   "outputs": [],
   "source": [
    "import statsmodels.api as sm"
   ]
  },
  {
   "cell_type": "code",
   "execution_count": 37,
   "id": "a3d7fd49",
   "metadata": {},
   "outputs": [
    {
     "name": "stdout",
     "output_type": "stream",
     "text": [
      "Optimization terminated successfully.\n",
      "         Current function value: 0.492224\n",
      "         Iterations 6\n"
     ]
    }
   ],
   "source": [
    "model_stat=sm.Logit(y_train,x_train).fit()"
   ]
  },
  {
   "cell_type": "code",
   "execution_count": 38,
   "id": "325382ac",
   "metadata": {},
   "outputs": [
    {
     "data": {
      "text/html": [
       "<table class=\"simpletable\">\n",
       "<tr>\n",
       "        <td>Model:</td>              <td>Logit</td>      <td>Pseudo R-squared:</td>   <td>0.199</td>  \n",
       "</tr>\n",
       "<tr>\n",
       "  <td>Dependent Variable:</td>   <td>h1n1_vaccine</td>         <td>AIC:</td>        <td>9338.2708</td>\n",
       "</tr>\n",
       "<tr>\n",
       "         <td>Date:</td>        <td>2021-09-01 16:43</td>       <td>BIC:</td>        <td>9517.0754</td>\n",
       "</tr>\n",
       "<tr>\n",
       "   <td>No. Observations:</td>        <td>9435</td>        <td>Log-Likelihood:</td>   <td>-4644.1</td> \n",
       "</tr>\n",
       "<tr>\n",
       "       <td>Df Model:</td>             <td>24</td>            <td>LL-Null:</td>       <td>-5794.9</td> \n",
       "</tr>\n",
       "<tr>\n",
       "     <td>Df Residuals:</td>          <td>9410</td>         <td>LLR p-value:</td>     <td>0.0000</td>  \n",
       "</tr>\n",
       "<tr>\n",
       "      <td>Converged:</td>           <td>1.0000</td>           <td>Scale:</td>        <td>1.0000</td>  \n",
       "</tr>\n",
       "<tr>\n",
       "    <td>No. Iterations:</td>        <td>6.0000</td>              <td></td>              <td></td>     \n",
       "</tr>\n",
       "</table>\n",
       "<table class=\"simpletable\">\n",
       "<tr>\n",
       "              <td></td>               <th>Coef.</th>  <th>Std.Err.</th>     <th>z</th>     <th>P>|z|</th> <th>[0.025</th>  <th>0.975]</th> \n",
       "</tr>\n",
       "<tr>\n",
       "  <th>h1n1_worry</th>                <td>0.0808</td>   <td>0.0350</td>   <td>2.3102</td>  <td>0.0209</td> <td>0.0122</td>  <td>0.1493</td> \n",
       "</tr>\n",
       "<tr>\n",
       "  <th>h1n1_awareness</th>            <td>-0.0573</td>  <td>0.0432</td>   <td>-1.3262</td> <td>0.1848</td> <td>-0.1420</td> <td>0.0274</td> \n",
       "</tr>\n",
       "<tr>\n",
       "  <th>antiviral_medication</th>      <td>-0.1318</td>  <td>0.1177</td>   <td>-1.1197</td> <td>0.2628</td> <td>-0.3624</td> <td>0.0989</td> \n",
       "</tr>\n",
       "<tr>\n",
       "  <th>contact_avoidance</th>         <td>-0.2097</td>  <td>0.0643</td>   <td>-3.2628</td> <td>0.0011</td> <td>-0.3357</td> <td>-0.0837</td>\n",
       "</tr>\n",
       "<tr>\n",
       "  <th>bought_face_mask</th>          <td>0.1857</td>   <td>0.1046</td>   <td>1.7764</td>  <td>0.0757</td> <td>-0.0192</td> <td>0.3907</td> \n",
       "</tr>\n",
       "<tr>\n",
       "  <th>wash_hands_frequently</th>     <td>-0.4185</td>  <td>0.0743</td>   <td>-5.6313</td> <td>0.0000</td> <td>-0.5641</td> <td>-0.2728</td>\n",
       "</tr>\n",
       "<tr>\n",
       "  <th>avoid_large_gatherings</th>    <td>-0.0694</td>  <td>0.0693</td>   <td>-1.0024</td> <td>0.3162</td> <td>-0.2052</td> <td>0.0663</td> \n",
       "</tr>\n",
       "<tr>\n",
       "  <th>reduced_outside_home_cont</th> <td>-0.0863</td>  <td>0.0704</td>   <td>-1.2259</td> <td>0.2202</td> <td>-0.2243</td> <td>0.0517</td> \n",
       "</tr>\n",
       "<tr>\n",
       "  <th>avoid_touch_face</th>          <td>-0.1445</td>  <td>0.0627</td>   <td>-2.3052</td> <td>0.0212</td> <td>-0.2673</td> <td>-0.0216</td>\n",
       "</tr>\n",
       "<tr>\n",
       "  <th>dr_recc_h1n1_vacc</th>         <td>2.0633</td>   <td>0.0783</td>   <td>26.3377</td> <td>0.0000</td> <td>1.9097</td>  <td>2.2168</td> \n",
       "</tr>\n",
       "<tr>\n",
       "  <th>dr_recc_seasonal_vacc</th>     <td>-0.4845</td>  <td>0.0760</td>   <td>-6.3765</td> <td>0.0000</td> <td>-0.6334</td> <td>-0.3356</td>\n",
       "</tr>\n",
       "<tr>\n",
       "  <th>chronic_medic_condition</th>   <td>-0.0075</td>  <td>0.0590</td>   <td>-0.1274</td> <td>0.8987</td> <td>-0.1231</td> <td>0.1081</td> \n",
       "</tr>\n",
       "<tr>\n",
       "  <th>cont_child_undr_6_mnths</th>   <td>0.0842</td>   <td>0.0926</td>   <td>0.9090</td>  <td>0.3633</td> <td>-0.0973</td> <td>0.2657</td> \n",
       "</tr>\n",
       "<tr>\n",
       "  <th>is_health_worker</th>          <td>0.7583</td>   <td>0.0779</td>   <td>9.7297</td>  <td>0.0000</td> <td>0.6056</td>  <td>0.9111</td> \n",
       "</tr>\n",
       "<tr>\n",
       "  <th>has_health_insur</th>          <td>-0.3750</td>  <td>0.0765</td>   <td>-4.9007</td> <td>0.0000</td> <td>-0.5250</td> <td>-0.2250</td>\n",
       "</tr>\n",
       "<tr>\n",
       "  <th>is_h1n1_vacc_effective</th>    <td>0.0020</td>   <td>0.0299</td>   <td>0.0669</td>  <td>0.9467</td> <td>-0.0566</td> <td>0.0607</td> \n",
       "</tr>\n",
       "<tr>\n",
       "  <th>is_h1n1_risky</th>             <td>0.4581</td>   <td>0.0259</td>   <td>17.6916</td> <td>0.0000</td> <td>0.4073</td>  <td>0.5088</td> \n",
       "</tr>\n",
       "<tr>\n",
       "  <th>sick_from_h1n1_vacc</th>       <td>-0.0446</td>  <td>0.0238</td>   <td>-1.8768</td> <td>0.0605</td> <td>-0.0912</td> <td>0.0020</td> \n",
       "</tr>\n",
       "<tr>\n",
       "  <th>is_seas_vacc_effective</th>    <td>-0.2200</td>  <td>0.0279</td>   <td>-7.8850</td> <td>0.0000</td> <td>-0.2747</td> <td>-0.1653</td>\n",
       "</tr>\n",
       "<tr>\n",
       "  <th>is_seas_risky</th>             <td>0.2362</td>   <td>0.0242</td>   <td>9.7417</td>  <td>0.0000</td> <td>0.1886</td>  <td>0.2837</td> \n",
       "</tr>\n",
       "<tr>\n",
       "  <th>sick_from_seas_vacc</th>       <td>-0.3195</td>  <td>0.0238</td>  <td>-13.4151</td> <td>0.0000</td> <td>-0.3661</td> <td>-0.2728</td>\n",
       "</tr>\n",
       "<tr>\n",
       "  <th>age_bracket</th>               <td>-0.0355</td>  <td>0.0208</td>   <td>-1.7128</td> <td>0.0868</td> <td>-0.0762</td> <td>0.0051</td> \n",
       "</tr>\n",
       "<tr>\n",
       "  <th>sex</th>                       <td>-0.1442</td>  <td>0.0529</td>   <td>-2.7262</td> <td>0.0064</td> <td>-0.2479</td> <td>-0.0405</td>\n",
       "</tr>\n",
       "<tr>\n",
       "  <th>no_of_adults</th>              <td>-0.2599</td>  <td>0.0345</td>   <td>-7.5371</td> <td>0.0000</td> <td>-0.3275</td> <td>-0.1923</td>\n",
       "</tr>\n",
       "<tr>\n",
       "  <th>no_of_children</th>            <td>-0.2167</td>  <td>0.0319</td>   <td>-6.7945</td> <td>0.0000</td> <td>-0.2792</td> <td>-0.1542</td>\n",
       "</tr>\n",
       "</table>"
      ],
      "text/plain": [
       "<class 'statsmodels.iolib.summary2.Summary'>\n",
       "\"\"\"\n",
       "                              Results: Logit\n",
       "==========================================================================\n",
       "Model:                  Logit               Pseudo R-squared:    0.199    \n",
       "Dependent Variable:     h1n1_vaccine        AIC:                 9338.2708\n",
       "Date:                   2021-09-01 16:43    BIC:                 9517.0754\n",
       "No. Observations:       9435                Log-Likelihood:      -4644.1  \n",
       "Df Model:               24                  LL-Null:             -5794.9  \n",
       "Df Residuals:           9410                LLR p-value:         0.0000   \n",
       "Converged:              1.0000              Scale:               1.0000   \n",
       "No. Iterations:         6.0000                                            \n",
       "--------------------------------------------------------------------------\n",
       "                           Coef.  Std.Err.    z     P>|z|   [0.025  0.975]\n",
       "--------------------------------------------------------------------------\n",
       "h1n1_worry                 0.0808   0.0350   2.3102 0.0209  0.0122  0.1493\n",
       "h1n1_awareness            -0.0573   0.0432  -1.3262 0.1848 -0.1420  0.0274\n",
       "antiviral_medication      -0.1318   0.1177  -1.1197 0.2628 -0.3624  0.0989\n",
       "contact_avoidance         -0.2097   0.0643  -3.2628 0.0011 -0.3357 -0.0837\n",
       "bought_face_mask           0.1857   0.1046   1.7764 0.0757 -0.0192  0.3907\n",
       "wash_hands_frequently     -0.4185   0.0743  -5.6313 0.0000 -0.5641 -0.2728\n",
       "avoid_large_gatherings    -0.0694   0.0693  -1.0024 0.3162 -0.2052  0.0663\n",
       "reduced_outside_home_cont -0.0863   0.0704  -1.2259 0.2202 -0.2243  0.0517\n",
       "avoid_touch_face          -0.1445   0.0627  -2.3052 0.0212 -0.2673 -0.0216\n",
       "dr_recc_h1n1_vacc          2.0633   0.0783  26.3377 0.0000  1.9097  2.2168\n",
       "dr_recc_seasonal_vacc     -0.4845   0.0760  -6.3765 0.0000 -0.6334 -0.3356\n",
       "chronic_medic_condition   -0.0075   0.0590  -0.1274 0.8987 -0.1231  0.1081\n",
       "cont_child_undr_6_mnths    0.0842   0.0926   0.9090 0.3633 -0.0973  0.2657\n",
       "is_health_worker           0.7583   0.0779   9.7297 0.0000  0.6056  0.9111\n",
       "has_health_insur          -0.3750   0.0765  -4.9007 0.0000 -0.5250 -0.2250\n",
       "is_h1n1_vacc_effective     0.0020   0.0299   0.0669 0.9467 -0.0566  0.0607\n",
       "is_h1n1_risky              0.4581   0.0259  17.6916 0.0000  0.4073  0.5088\n",
       "sick_from_h1n1_vacc       -0.0446   0.0238  -1.8768 0.0605 -0.0912  0.0020\n",
       "is_seas_vacc_effective    -0.2200   0.0279  -7.8850 0.0000 -0.2747 -0.1653\n",
       "is_seas_risky              0.2362   0.0242   9.7417 0.0000  0.1886  0.2837\n",
       "sick_from_seas_vacc       -0.3195   0.0238 -13.4151 0.0000 -0.3661 -0.2728\n",
       "age_bracket               -0.0355   0.0208  -1.7128 0.0868 -0.0762  0.0051\n",
       "sex                       -0.1442   0.0529  -2.7262 0.0064 -0.2479 -0.0405\n",
       "no_of_adults              -0.2599   0.0345  -7.5371 0.0000 -0.3275 -0.1923\n",
       "no_of_children            -0.2167   0.0319  -6.7945 0.0000 -0.2792 -0.1542\n",
       "==========================================================================\n",
       "\n",
       "\"\"\""
      ]
     },
     "execution_count": 38,
     "metadata": {},
     "output_type": "execute_result"
    }
   ],
   "source": [
    "model_stat.summary2()"
   ]
  },
  {
   "cell_type": "code",
   "execution_count": 39,
   "id": "d5cc4bfa",
   "metadata": {},
   "outputs": [],
   "source": [
    "from sklearn.linear_model import LogisticRegression\n",
    "model1=LogisticRegression()"
   ]
  },
  {
   "cell_type": "code",
   "execution_count": 40,
   "id": "20a35e05",
   "metadata": {},
   "outputs": [
    {
     "data": {
      "text/plain": [
       "LogisticRegression()"
      ]
     },
     "execution_count": 40,
     "metadata": {},
     "output_type": "execute_result"
    }
   ],
   "source": [
    "model1.fit(x_train,y_train)"
   ]
  },
  {
   "cell_type": "code",
   "execution_count": 41,
   "id": "51913186",
   "metadata": {},
   "outputs": [],
   "source": [
    "y_pred=model1.predict(x_test)"
   ]
  },
  {
   "cell_type": "code",
   "execution_count": 42,
   "id": "e430739e",
   "metadata": {},
   "outputs": [
    {
     "data": {
      "text/plain": [
       "array([0, 0, 0, ..., 1, 0, 0], dtype=int64)"
      ]
     },
     "execution_count": 42,
     "metadata": {},
     "output_type": "execute_result"
    }
   ],
   "source": [
    "y_pred"
   ]
  },
  {
   "cell_type": "code",
   "execution_count": 43,
   "id": "8901d0d7",
   "metadata": {},
   "outputs": [],
   "source": [
    "#Confusion matrix to determine the accuracy score using the y_test and y_pred"
   ]
  },
  {
   "cell_type": "code",
   "execution_count": 44,
   "id": "63d233db",
   "metadata": {},
   "outputs": [],
   "source": [
    "from sklearn.metrics import confusion_matrix,accuracy_score"
   ]
  },
  {
   "cell_type": "code",
   "execution_count": 45,
   "id": "6abd6c6c",
   "metadata": {},
   "outputs": [
    {
     "data": {
      "text/plain": [
       "array([[1518,  148],\n",
       "       [ 286,  407]], dtype=int64)"
      ]
     },
     "execution_count": 45,
     "metadata": {},
     "output_type": "execute_result"
    }
   ],
   "source": [
    "confusion_matrix(y_test,y_pred)"
   ]
  },
  {
   "cell_type": "code",
   "execution_count": 46,
   "id": "4e636a22",
   "metadata": {},
   "outputs": [
    {
     "data": {
      "text/plain": [
       "0.8160237388724035"
      ]
     },
     "execution_count": 46,
     "metadata": {},
     "output_type": "execute_result"
    }
   ],
   "source": [
    "accuracy_score(y_test,y_pred)"
   ]
  },
  {
   "cell_type": "code",
   "execution_count": 47,
   "id": "93743595",
   "metadata": {},
   "outputs": [
    {
     "data": {
      "text/plain": [
       "0.8160237388724035"
      ]
     },
     "execution_count": 47,
     "metadata": {},
     "output_type": "execute_result"
    }
   ],
   "source": [
    "(1518+407)/(1518+407+148+286)"
   ]
  },
  {
   "cell_type": "markdown",
   "id": "88f3900d",
   "metadata": {},
   "source": [
    "# Variable selections \n"
   ]
  },
  {
   "cell_type": "code",
   "execution_count": 48,
   "id": "36ae92f9",
   "metadata": {},
   "outputs": [
    {
     "name": "stdout",
     "output_type": "stream",
     "text": [
      "Optimization terminated successfully.\n",
      "         Current function value: 0.492224\n",
      "         Iterations 6\n"
     ]
    }
   ],
   "source": [
    "model_stat=sm.Logit(y_train,x_train).fit()"
   ]
  },
  {
   "cell_type": "code",
   "execution_count": 49,
   "id": "f538b445",
   "metadata": {},
   "outputs": [
    {
     "data": {
      "text/html": [
       "<table class=\"simpletable\">\n",
       "<tr>\n",
       "        <td>Model:</td>              <td>Logit</td>      <td>Pseudo R-squared:</td>   <td>0.199</td>  \n",
       "</tr>\n",
       "<tr>\n",
       "  <td>Dependent Variable:</td>   <td>h1n1_vaccine</td>         <td>AIC:</td>        <td>9338.2708</td>\n",
       "</tr>\n",
       "<tr>\n",
       "         <td>Date:</td>        <td>2021-09-01 16:43</td>       <td>BIC:</td>        <td>9517.0754</td>\n",
       "</tr>\n",
       "<tr>\n",
       "   <td>No. Observations:</td>        <td>9435</td>        <td>Log-Likelihood:</td>   <td>-4644.1</td> \n",
       "</tr>\n",
       "<tr>\n",
       "       <td>Df Model:</td>             <td>24</td>            <td>LL-Null:</td>       <td>-5794.9</td> \n",
       "</tr>\n",
       "<tr>\n",
       "     <td>Df Residuals:</td>          <td>9410</td>         <td>LLR p-value:</td>     <td>0.0000</td>  \n",
       "</tr>\n",
       "<tr>\n",
       "      <td>Converged:</td>           <td>1.0000</td>           <td>Scale:</td>        <td>1.0000</td>  \n",
       "</tr>\n",
       "<tr>\n",
       "    <td>No. Iterations:</td>        <td>6.0000</td>              <td></td>              <td></td>     \n",
       "</tr>\n",
       "</table>\n",
       "<table class=\"simpletable\">\n",
       "<tr>\n",
       "              <td></td>               <th>Coef.</th>  <th>Std.Err.</th>     <th>z</th>     <th>P>|z|</th> <th>[0.025</th>  <th>0.975]</th> \n",
       "</tr>\n",
       "<tr>\n",
       "  <th>h1n1_worry</th>                <td>0.0808</td>   <td>0.0350</td>   <td>2.3102</td>  <td>0.0209</td> <td>0.0122</td>  <td>0.1493</td> \n",
       "</tr>\n",
       "<tr>\n",
       "  <th>h1n1_awareness</th>            <td>-0.0573</td>  <td>0.0432</td>   <td>-1.3262</td> <td>0.1848</td> <td>-0.1420</td> <td>0.0274</td> \n",
       "</tr>\n",
       "<tr>\n",
       "  <th>antiviral_medication</th>      <td>-0.1318</td>  <td>0.1177</td>   <td>-1.1197</td> <td>0.2628</td> <td>-0.3624</td> <td>0.0989</td> \n",
       "</tr>\n",
       "<tr>\n",
       "  <th>contact_avoidance</th>         <td>-0.2097</td>  <td>0.0643</td>   <td>-3.2628</td> <td>0.0011</td> <td>-0.3357</td> <td>-0.0837</td>\n",
       "</tr>\n",
       "<tr>\n",
       "  <th>bought_face_mask</th>          <td>0.1857</td>   <td>0.1046</td>   <td>1.7764</td>  <td>0.0757</td> <td>-0.0192</td> <td>0.3907</td> \n",
       "</tr>\n",
       "<tr>\n",
       "  <th>wash_hands_frequently</th>     <td>-0.4185</td>  <td>0.0743</td>   <td>-5.6313</td> <td>0.0000</td> <td>-0.5641</td> <td>-0.2728</td>\n",
       "</tr>\n",
       "<tr>\n",
       "  <th>avoid_large_gatherings</th>    <td>-0.0694</td>  <td>0.0693</td>   <td>-1.0024</td> <td>0.3162</td> <td>-0.2052</td> <td>0.0663</td> \n",
       "</tr>\n",
       "<tr>\n",
       "  <th>reduced_outside_home_cont</th> <td>-0.0863</td>  <td>0.0704</td>   <td>-1.2259</td> <td>0.2202</td> <td>-0.2243</td> <td>0.0517</td> \n",
       "</tr>\n",
       "<tr>\n",
       "  <th>avoid_touch_face</th>          <td>-0.1445</td>  <td>0.0627</td>   <td>-2.3052</td> <td>0.0212</td> <td>-0.2673</td> <td>-0.0216</td>\n",
       "</tr>\n",
       "<tr>\n",
       "  <th>dr_recc_h1n1_vacc</th>         <td>2.0633</td>   <td>0.0783</td>   <td>26.3377</td> <td>0.0000</td> <td>1.9097</td>  <td>2.2168</td> \n",
       "</tr>\n",
       "<tr>\n",
       "  <th>dr_recc_seasonal_vacc</th>     <td>-0.4845</td>  <td>0.0760</td>   <td>-6.3765</td> <td>0.0000</td> <td>-0.6334</td> <td>-0.3356</td>\n",
       "</tr>\n",
       "<tr>\n",
       "  <th>chronic_medic_condition</th>   <td>-0.0075</td>  <td>0.0590</td>   <td>-0.1274</td> <td>0.8987</td> <td>-0.1231</td> <td>0.1081</td> \n",
       "</tr>\n",
       "<tr>\n",
       "  <th>cont_child_undr_6_mnths</th>   <td>0.0842</td>   <td>0.0926</td>   <td>0.9090</td>  <td>0.3633</td> <td>-0.0973</td> <td>0.2657</td> \n",
       "</tr>\n",
       "<tr>\n",
       "  <th>is_health_worker</th>          <td>0.7583</td>   <td>0.0779</td>   <td>9.7297</td>  <td>0.0000</td> <td>0.6056</td>  <td>0.9111</td> \n",
       "</tr>\n",
       "<tr>\n",
       "  <th>has_health_insur</th>          <td>-0.3750</td>  <td>0.0765</td>   <td>-4.9007</td> <td>0.0000</td> <td>-0.5250</td> <td>-0.2250</td>\n",
       "</tr>\n",
       "<tr>\n",
       "  <th>is_h1n1_vacc_effective</th>    <td>0.0020</td>   <td>0.0299</td>   <td>0.0669</td>  <td>0.9467</td> <td>-0.0566</td> <td>0.0607</td> \n",
       "</tr>\n",
       "<tr>\n",
       "  <th>is_h1n1_risky</th>             <td>0.4581</td>   <td>0.0259</td>   <td>17.6916</td> <td>0.0000</td> <td>0.4073</td>  <td>0.5088</td> \n",
       "</tr>\n",
       "<tr>\n",
       "  <th>sick_from_h1n1_vacc</th>       <td>-0.0446</td>  <td>0.0238</td>   <td>-1.8768</td> <td>0.0605</td> <td>-0.0912</td> <td>0.0020</td> \n",
       "</tr>\n",
       "<tr>\n",
       "  <th>is_seas_vacc_effective</th>    <td>-0.2200</td>  <td>0.0279</td>   <td>-7.8850</td> <td>0.0000</td> <td>-0.2747</td> <td>-0.1653</td>\n",
       "</tr>\n",
       "<tr>\n",
       "  <th>is_seas_risky</th>             <td>0.2362</td>   <td>0.0242</td>   <td>9.7417</td>  <td>0.0000</td> <td>0.1886</td>  <td>0.2837</td> \n",
       "</tr>\n",
       "<tr>\n",
       "  <th>sick_from_seas_vacc</th>       <td>-0.3195</td>  <td>0.0238</td>  <td>-13.4151</td> <td>0.0000</td> <td>-0.3661</td> <td>-0.2728</td>\n",
       "</tr>\n",
       "<tr>\n",
       "  <th>age_bracket</th>               <td>-0.0355</td>  <td>0.0208</td>   <td>-1.7128</td> <td>0.0868</td> <td>-0.0762</td> <td>0.0051</td> \n",
       "</tr>\n",
       "<tr>\n",
       "  <th>sex</th>                       <td>-0.1442</td>  <td>0.0529</td>   <td>-2.7262</td> <td>0.0064</td> <td>-0.2479</td> <td>-0.0405</td>\n",
       "</tr>\n",
       "<tr>\n",
       "  <th>no_of_adults</th>              <td>-0.2599</td>  <td>0.0345</td>   <td>-7.5371</td> <td>0.0000</td> <td>-0.3275</td> <td>-0.1923</td>\n",
       "</tr>\n",
       "<tr>\n",
       "  <th>no_of_children</th>            <td>-0.2167</td>  <td>0.0319</td>   <td>-6.7945</td> <td>0.0000</td> <td>-0.2792</td> <td>-0.1542</td>\n",
       "</tr>\n",
       "</table>"
      ],
      "text/plain": [
       "<class 'statsmodels.iolib.summary2.Summary'>\n",
       "\"\"\"\n",
       "                              Results: Logit\n",
       "==========================================================================\n",
       "Model:                  Logit               Pseudo R-squared:    0.199    \n",
       "Dependent Variable:     h1n1_vaccine        AIC:                 9338.2708\n",
       "Date:                   2021-09-01 16:43    BIC:                 9517.0754\n",
       "No. Observations:       9435                Log-Likelihood:      -4644.1  \n",
       "Df Model:               24                  LL-Null:             -5794.9  \n",
       "Df Residuals:           9410                LLR p-value:         0.0000   \n",
       "Converged:              1.0000              Scale:               1.0000   \n",
       "No. Iterations:         6.0000                                            \n",
       "--------------------------------------------------------------------------\n",
       "                           Coef.  Std.Err.    z     P>|z|   [0.025  0.975]\n",
       "--------------------------------------------------------------------------\n",
       "h1n1_worry                 0.0808   0.0350   2.3102 0.0209  0.0122  0.1493\n",
       "h1n1_awareness            -0.0573   0.0432  -1.3262 0.1848 -0.1420  0.0274\n",
       "antiviral_medication      -0.1318   0.1177  -1.1197 0.2628 -0.3624  0.0989\n",
       "contact_avoidance         -0.2097   0.0643  -3.2628 0.0011 -0.3357 -0.0837\n",
       "bought_face_mask           0.1857   0.1046   1.7764 0.0757 -0.0192  0.3907\n",
       "wash_hands_frequently     -0.4185   0.0743  -5.6313 0.0000 -0.5641 -0.2728\n",
       "avoid_large_gatherings    -0.0694   0.0693  -1.0024 0.3162 -0.2052  0.0663\n",
       "reduced_outside_home_cont -0.0863   0.0704  -1.2259 0.2202 -0.2243  0.0517\n",
       "avoid_touch_face          -0.1445   0.0627  -2.3052 0.0212 -0.2673 -0.0216\n",
       "dr_recc_h1n1_vacc          2.0633   0.0783  26.3377 0.0000  1.9097  2.2168\n",
       "dr_recc_seasonal_vacc     -0.4845   0.0760  -6.3765 0.0000 -0.6334 -0.3356\n",
       "chronic_medic_condition   -0.0075   0.0590  -0.1274 0.8987 -0.1231  0.1081\n",
       "cont_child_undr_6_mnths    0.0842   0.0926   0.9090 0.3633 -0.0973  0.2657\n",
       "is_health_worker           0.7583   0.0779   9.7297 0.0000  0.6056  0.9111\n",
       "has_health_insur          -0.3750   0.0765  -4.9007 0.0000 -0.5250 -0.2250\n",
       "is_h1n1_vacc_effective     0.0020   0.0299   0.0669 0.9467 -0.0566  0.0607\n",
       "is_h1n1_risky              0.4581   0.0259  17.6916 0.0000  0.4073  0.5088\n",
       "sick_from_h1n1_vacc       -0.0446   0.0238  -1.8768 0.0605 -0.0912  0.0020\n",
       "is_seas_vacc_effective    -0.2200   0.0279  -7.8850 0.0000 -0.2747 -0.1653\n",
       "is_seas_risky              0.2362   0.0242   9.7417 0.0000  0.1886  0.2837\n",
       "sick_from_seas_vacc       -0.3195   0.0238 -13.4151 0.0000 -0.3661 -0.2728\n",
       "age_bracket               -0.0355   0.0208  -1.7128 0.0868 -0.0762  0.0051\n",
       "sex                       -0.1442   0.0529  -2.7262 0.0064 -0.2479 -0.0405\n",
       "no_of_adults              -0.2599   0.0345  -7.5371 0.0000 -0.3275 -0.1923\n",
       "no_of_children            -0.2167   0.0319  -6.7945 0.0000 -0.2792 -0.1542\n",
       "==========================================================================\n",
       "\n",
       "\"\"\""
      ]
     },
     "execution_count": 49,
     "metadata": {},
     "output_type": "execute_result"
    }
   ],
   "source": [
    "model_stat.summary2()"
   ]
  },
  {
   "cell_type": "code",
   "execution_count": 50,
   "id": "486b5346",
   "metadata": {},
   "outputs": [],
   "source": [
    "# RoC Curve-(Receiver operating characteristic curve)\n",
    "# ROC is used to find the threshold point"
   ]
  },
  {
   "cell_type": "code",
   "execution_count": 51,
   "id": "4c4ed2f4",
   "metadata": {},
   "outputs": [],
   "source": [
    "from sklearn.metrics import roc_auc_score\n",
    "from sklearn.metrics import roc_curve"
   ]
  },
  {
   "cell_type": "code",
   "execution_count": 52,
   "id": "6e500117",
   "metadata": {},
   "outputs": [],
   "source": [
    "logis_roc_auc=roc_auc_score(y_test,y_pred)"
   ]
  },
  {
   "cell_type": "code",
   "execution_count": 53,
   "id": "f6ab0f17",
   "metadata": {},
   "outputs": [],
   "source": [
    "fpr,tpr,thresholds=roc_curve(y_test,model1.predict_proba(x_test)[:,1])"
   ]
  },
  {
   "cell_type": "code",
   "execution_count": 54,
   "id": "e0c0a70a",
   "metadata": {},
   "outputs": [
    {
     "data": {
      "image/png": "[encoded data removed]",
      "text/plain": [
       "<Figure size 432x288 with 1 Axes>"
      ]
     },
     "metadata": {
      "needs_background": "light"
     },
     "output_type": "display_data"
    }
   ],
   "source": [
    "plt.plot(fpr,tpr,logis_roc_auc);"
   ]
  },
  {
   "cell_type": "code",
   "execution_count": 71,
   "id": "ad2874a0",
   "metadata": {},
   "outputs": [],
   "source": [
    "roc_t=LogisticRegression(class_weight=\"balanced\")\n",
    "roc_t.fit(x_train,y_train)\n",
    "THRESHOLD=0.6"
   ]
  },
  {
   "cell_type": "code",
   "execution_count": 72,
   "id": "c76c667f",
   "metadata": {
    "scrolled": true
   },
   "outputs": [],
   "source": [
    "y_pred_roc=np.where(roc_t.predict_proba(x_test)[:,1]>THRESHOLD,1,0)"
   ]
  },
  {
   "cell_type": "code",
   "execution_count": 73,
   "id": "97bdc4a8",
   "metadata": {},
   "outputs": [
    {
     "data": {
      "text/plain": [
       "0.8151759220008478"
      ]
     },
     "execution_count": 73,
     "metadata": {},
     "output_type": "execute_result"
    }
   ],
   "source": [
    "accuracy_score(y_test,y_pred_roc)"
   ]
  },
  {
   "cell_type": "code",
   "execution_count": 74,
   "id": "e51a173e",
   "metadata": {},
   "outputs": [],
   "source": [
    "from sklearn.metrics import classification_report"
   ]
  },
  {
   "cell_type": "code",
   "execution_count": 75,
   "id": "c84ba76a",
   "metadata": {},
   "outputs": [],
   "source": [
    "c_Report=classification_report(y_test,y_pred_roc)"
   ]
  },
  {
   "cell_type": "code",
   "execution_count": 76,
   "id": "10bb8f9b",
   "metadata": {},
   "outputs": [
    {
     "name": "stdout",
     "output_type": "stream",
     "text": [
      "              precision    recall  f1-score   support\n",
      "\n",
      "           0       0.87      0.87      0.87      1666\n",
      "           1       0.68      0.69      0.69       693\n",
      "\n",
      "    accuracy                           0.82      2359\n",
      "   macro avg       0.78      0.78      0.78      2359\n",
      "weighted avg       0.82      0.82      0.82      2359\n",
      "\n"
     ]
    }
   ],
   "source": [
    "print(c_Report)"
   ]
  },
  {
   "cell_type": "code",
   "execution_count": null,
   "id": "d1d8b060",
   "metadata": {},
   "outputs": [],
   "source": [
    "#Report prints the accuracy rate, TRUE Positive rate(measure for how many true positives get predicted out of all positives)\n",
    " and Precision (measure for the correctness of a positive prediction)"
   ]
  },
  {
   "cell_type": "code",
   "execution_count": null,
   "id": "5505d04f",
   "metadata": {},
   "outputs": [],
   "source": []
  }
 ],
 "metadata": {
  "kernelspec": {
   "display_name": "Python 3",
   "language": "python",
   "name": "python3"
  },
  "language_info": {
   "codemirror_mode": {
    "name": "ipython",
    "version": 3
   },
   "file_extension": ".py",
   "mimetype": "text/x-python",
   "name": "python",
   "nbconvert_exporter": "python",
   "pygments_lexer": "ipython3",
   "version": "3.8.8"
  }
 },
 "nbformat": 4,
 "nbformat_minor": 5
}
